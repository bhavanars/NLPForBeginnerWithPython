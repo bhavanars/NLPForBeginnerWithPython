{
 "cells": [
  {
   "cell_type": "code",
   "execution_count": 19,
   "metadata": {},
   "outputs": [
    {
     "name": "stdout",
     "output_type": "stream",
     "text": [
      "she is immaculate.A beautiful soul.A phenomenol persona.\\n\n",
      "[('she', 'is'), ('is', 'immaculate'), ('A', 'beautiful'), ('beautiful', 'soul'), ('A', 'phenomenol'), ('phenomenol', 'persona')]\n"
     ]
    }
   ],
   "source": [
    "import io\n",
    "import numpy as np\n",
    "count = 0\n",
    "fin = open('input.txt' , 'r') #open the file name input.txt in reading mode\n",
    "text = fin.read()  #reading contents of file in variable named as 'text'\n",
    "bigram = []\n",
    "wrd = [ ]\n",
    "print(text)\n",
    "sen = text.split('.') # getting sentences from text\n",
    "for x in range(len(sen)):\n",
    " wrd = sen[x].split(' ')\n",
    " for y in range(len(wrd)-1):\n",
    "    bigram = bigram + [(wrd[y],wrd[y+1])] # creating Bigrams\n",
    "print(bigram)\n",
    "\n",
    "\n",
    "\n",
    "\n",
    "\n",
    "\n",
    "\n",
    "\n",
    "\n",
    "\n"
   ]
  },
  {
   "cell_type": "code",
   "execution_count": null,
   "metadata": {},
   "outputs": [],
   "source": []
  },
  {
   "cell_type": "code",
   "execution_count": null,
   "metadata": {},
   "outputs": [],
   "source": []
  },
  {
   "cell_type": "code",
   "execution_count": null,
   "metadata": {},
   "outputs": [],
   "source": []
  },
  {
   "cell_type": "code",
   "execution_count": null,
   "metadata": {},
   "outputs": [],
   "source": []
  }
 ],
 "metadata": {
  "kernelspec": {
   "display_name": "Python 3",
   "language": "python",
   "name": "python3"
  },
  "language_info": {
   "codemirror_mode": {
    "name": "ipython",
    "version": 3
   },
   "file_extension": ".py",
   "mimetype": "text/x-python",
   "name": "python",
   "nbconvert_exporter": "python",
   "pygments_lexer": "ipython3",
   "version": "3.6.4"
  }
 },
 "nbformat": 4,
 "nbformat_minor": 2
}
