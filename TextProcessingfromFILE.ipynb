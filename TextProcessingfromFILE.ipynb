{
 "cells": [
  {
   "cell_type": "code",
   "execution_count": 31,
   "metadata": {},
   "outputs": [
    {
     "name": "stdout",
     "output_type": "stream",
     "text": [
      "she is immaculate. A beautiful soul. A phenomenol persona.\\n\n",
      "['she is immaculate', ' A beautiful soul', ' A phenomenol persona', '\\\\n']\n",
      "['she', 'is', 'immaculate.', 'A', 'beautiful', 'soul.', 'A', 'phenomenol', 'persona.\\\\n']\n",
      "60 4 9\n"
     ]
    }
   ],
   "source": [
    "import io\n",
    "fin = open('input.txt' , 'r') #open the file name input.txt in reading mode\n",
    "text = fin.read()  #reading contents of file in variable named as 'text'\n",
    "sen = text.split('.') # getting sentences from text\n",
    "wrd = text.split(' ') #getting words from text\n",
    "print(text)\n",
    "print(sen)\n",
    "print(wrd)\n",
    "a = len(text) #counting total no. of words in file 'input.txt'\n",
    "b = len(sen)  #Counting total no. of sentences in file 'input.\n",
    "c = len(wrd)\n",
    "print(a,b,c)\n",
    "\n",
    "\n",
    "\n"
   ]
  },
  {
   "cell_type": "code",
   "execution_count": null,
   "metadata": {},
   "outputs": [],
   "source": []
  },
  {
   "cell_type": "code",
   "execution_count": null,
   "metadata": {},
   "outputs": [],
   "source": []
  }
 ],
 "metadata": {
  "kernelspec": {
   "display_name": "Python 3",
   "language": "python",
   "name": "python3"
  },
  "language_info": {
   "codemirror_mode": {
    "name": "ipython",
    "version": 3
   },
   "file_extension": ".py",
   "mimetype": "text/x-python",
   "name": "python",
   "nbconvert_exporter": "python",
   "pygments_lexer": "ipython3",
   "version": "3.6.4"
  }
 },
 "nbformat": 4,
 "nbformat_minor": 2
}
