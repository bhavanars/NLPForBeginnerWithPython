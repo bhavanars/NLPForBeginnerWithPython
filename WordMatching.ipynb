{
 "cells": [
  {
   "cell_type": "code",
   "execution_count": 40,
   "metadata": {},
   "outputs": [
    {
     "name": "stdout",
     "output_type": "stream",
     "text": [
      "total words matched =  1\n"
     ]
    }
   ],
   "source": [
    "import io\n",
    "count = 0\n",
    "fin = open('input.txt' , 'r') #open the file name input.txt in reading mode\n",
    "text = fin.read()  #reading contents of file in variable named as 'text'\n",
    "sen = text.split('.') # getting sentences from text\n",
    "wrd = text.split(' ') #getting words from text\n",
    "X_corpus = [ 'love' , 'affection' , 'beautiful' , 'dream' , 'sensitive'] # a tiny dataset for word matching\n",
    "for x in wrd:        #Loop to check words\n",
    " for y in X_corpus:\n",
    "    if x == y:\n",
    "        count = count + 1  #count variable in\n",
    "if count>0:\n",
    "    print ('total words matched = ' , count)\n",
    "\n",
    "\n",
    "\n",
    "\n",
    "\n",
    "\n"
   ]
  },
  {
   "cell_type": "code",
   "execution_count": null,
   "metadata": {},
   "outputs": [],
   "source": []
  },
  {
   "cell_type": "code",
   "execution_count": null,
   "metadata": {},
   "outputs": [],
   "source": []
  }
 ],
 "metadata": {
  "kernelspec": {
   "display_name": "Python 3",
   "language": "python",
   "name": "python3"
  },
  "language_info": {
   "codemirror_mode": {
    "name": "ipython",
    "version": 3
   },
   "file_extension": ".py",
   "mimetype": "text/x-python",
   "name": "python",
   "nbconvert_exporter": "python",
   "pygments_lexer": "ipython3",
   "version": "3.6.4"
  }
 },
 "nbformat": 4,
 "nbformat_minor": 2
}
