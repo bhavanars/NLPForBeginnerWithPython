{
 "cells": [
  {
   "cell_type": "code",
   "execution_count": 45,
   "metadata": {},
   "outputs": [
    {
     "name": "stdout",
     "output_type": "stream",
     "text": [
      "she comes after love\n",
      "she comes after affection\n",
      "she comes after beautiful\n",
      "she comes after dream\n",
      "she comes after sensitive\n",
      "is comes before love\n",
      "is comes after affection\n",
      "is comes after beautiful\n",
      "is comes after dream\n",
      "is comes before sensitive\n",
      "immaculate. comes before love\n",
      "immaculate. comes after affection\n",
      "immaculate. comes after beautiful\n",
      "immaculate. comes after dream\n",
      "immaculate. comes before sensitive\n",
      "A comes before love\n",
      "A comes before affection\n",
      "A comes before beautiful\n",
      "A comes before dream\n",
      "A comes before sensitive\n",
      "beautiful comes before love\n",
      "beautiful comes after affection\n",
      " okk! its beautiful!\n",
      "beautiful comes before dream\n",
      "beautiful comes before sensitive\n",
      "soul. comes after love\n",
      "soul. comes after affection\n",
      "soul. comes after beautiful\n",
      "soul. comes after dream\n",
      "soul. comes after sensitive\n",
      "A comes before love\n",
      "A comes before affection\n",
      "A comes before beautiful\n",
      "A comes before dream\n",
      "A comes before sensitive\n",
      "phenomenol comes after love\n",
      "phenomenol comes after affection\n",
      "phenomenol comes after beautiful\n",
      "phenomenol comes after dream\n",
      "phenomenol comes before sensitive\n",
      "persona.\\n comes after love\n",
      "persona.\\n comes after affection\n",
      "persona.\\n comes after beautiful\n",
      "persona.\\n comes after dream\n",
      "persona.\\n comes before sensitive\n"
     ]
    }
   ],
   "source": [
    "import io\n",
    "count = 0\n",
    "fin = open('input.txt' , 'r') #open the file name input.txt in reading mode\n",
    "text = fin.read()  #reading contents of file in variable named as 'text'\n",
    "sen = text.split('.') # getting sentences from text\n",
    "wrd = text.split(' ') #getting words from text\n",
    "X_corpus = [ 'love' , 'affection' , 'beautiful' , 'dream' , 'sensitive'] # a tiny dataset for word matching\n",
    "for x in wrd:\n",
    "    for y in X_corpus:   #Loop for String comparision\n",
    "      if x < y:\n",
    "        print(x + ' comes before ' + y)  # comparision takes place based on dictionary rules , like a comes before b \n",
    "      elif x > y:\n",
    "        print(x + ' comes after ' + y) \n",
    "      else:\n",
    "        print ( \" okk! its \" + x + \"!\")\n",
    "\n",
    "#note : the uppercase and lowercase are treated differently ,\n",
    "#All the uppercase letteres come before all the lowercase letters\n",
    "\n",
    "\n",
    "\n"
   ]
  },
  {
   "cell_type": "code",
   "execution_count": null,
   "metadata": {},
   "outputs": [],
   "source": []
  },
  {
   "cell_type": "code",
   "execution_count": null,
   "metadata": {},
   "outputs": [],
   "source": []
  }
 ],
 "metadata": {
  "kernelspec": {
   "display_name": "Python 3",
   "language": "python",
   "name": "python3"
  },
  "language_info": {
   "codemirror_mode": {
    "name": "ipython",
    "version": 3
   },
   "file_extension": ".py",
   "mimetype": "text/x-python",
   "name": "python",
   "nbconvert_exporter": "python",
   "pygments_lexer": "ipython3",
   "version": "3.6.4"
  }
 },
 "nbformat": 4,
 "nbformat_minor": 2
}
